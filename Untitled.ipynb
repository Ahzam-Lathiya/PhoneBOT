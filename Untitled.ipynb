{
 "cells": [
  {
   "cell_type": "code",
   "execution_count": 1,
   "metadata": {},
   "outputs": [],
   "source": [
    "import pandas as pd"
   ]
  },
  {
   "cell_type": "code",
   "execution_count": 2,
   "metadata": {},
   "outputs": [],
   "source": [
    "path=\"tutorial/tutorial/spiders/stuff.json\"\n",
    "x=pd.read_json(path)"
   ]
  },
  {
   "cell_type": "code",
   "execution_count": 17,
   "metadata": {},
   "outputs": [],
   "source": [
    "mob_price=dict([m,i] for m in range(10) for i in range(20,10,-1))"
   ]
  },
  {
   "cell_type": "code",
   "execution_count": 13,
   "metadata": {},
   "outputs": [
    {
     "data": {
      "text/plain": [
       "['$220',\n",
       " '$289',\n",
       " '$699',\n",
       " '$125',\n",
       " '$895',\n",
       " '$1828',\n",
       " '$330',\n",
       " '$345',\n",
       " '$249',\n",
       " '$476']"
      ]
     },
     "execution_count": 13,
     "metadata": {},
     "output_type": "execute_result"
    }
   ],
   "source": [
    "x.price[0]"
   ]
  },
  {
   "cell_type": "code",
   "execution_count": 18,
   "metadata": {
    "scrolled": true
   },
   "outputs": [
    {
     "data": {
      "text/plain": [
       "{0: 11, 1: 11, 2: 11, 3: 11, 4: 11, 5: 11, 6: 11, 7: 11, 8: 11, 9: 11}"
      ]
     },
     "execution_count": 18,
     "metadata": {},
     "output_type": "execute_result"
    }
   ],
   "source": [
    "mob_price"
   ]
  },
  {
   "cell_type": "code",
   "execution_count": 6,
   "metadata": {},
   "outputs": [],
   "source": [
    "brands=list(mob_price.keys())"
   ]
  },
  {
   "cell_type": "code",
   "execution_count": 7,
   "metadata": {},
   "outputs": [
    {
     "data": {
      "text/plain": [
       "['HTC One M9 - Unlocked (AU Stock) ',\n",
       " 'Motorola Moto X - Generation 1 ',\n",
       " 'Apple iphone 7 black 32gb ',\n",
       " 'Nokia Lumia 520 ',\n",
       " 'Samsung Galaxy S8 Plus ',\n",
       " 'Apple iPhone X - 256GB ',\n",
       " 'Apple iPad Air 16GB WiFi Cellular ',\n",
       " 'Samsung Galaxy A5 -2017 - Like New Ex Demo ',\n",
       " 'Sony Xperia Z3 White ',\n",
       " 'LG G6  ']"
      ]
     },
     "execution_count": 7,
     "metadata": {},
     "output_type": "execute_result"
    }
   ],
   "source": [
    "brands"
   ]
  },
  {
   "cell_type": "code",
   "execution_count": 58,
   "metadata": {},
   "outputs": [],
   "source": [
    "brand=[]"
   ]
  },
  {
   "cell_type": "code",
   "execution_count": 59,
   "metadata": {},
   "outputs": [],
   "source": [
    "model=[]"
   ]
  },
  {
   "cell_type": "code",
   "execution_count": 60,
   "metadata": {},
   "outputs": [],
   "source": [
    "for i in range(10):\n",
    "    brand.append(brands[i])\n",
    "    model.append(brands[i])\n",
    "    x=brand[i].split()\n",
    "    brand[i]=x[0]\n",
    "    if(len(x)>2):model[i]=x[1]+\" \"+x[2]\n",
    "    else:model[i]=x[1]"
   ]
  },
  {
   "cell_type": "code",
   "execution_count": 56,
   "metadata": {},
   "outputs": [
    {
     "name": "stdout",
     "output_type": "stream",
     "text": [
      "0\n",
      "1\n",
      "2\n",
      "3\n",
      "4\n",
      "5\n",
      "6\n",
      "7\n",
      "8\n",
      "9\n"
     ]
    }
   ],
   "source": [
    "        "
   ]
  },
  {
   "cell_type": "code",
   "execution_count": 61,
   "metadata": {},
   "outputs": [
    {
     "data": {
      "text/plain": [
       "['HTC',\n",
       " 'Motorola',\n",
       " 'Apple',\n",
       " 'Nokia',\n",
       " 'Samsung',\n",
       " 'Apple',\n",
       " 'Apple',\n",
       " 'Samsung',\n",
       " 'Sony',\n",
       " 'LG']"
      ]
     },
     "execution_count": 61,
     "metadata": {},
     "output_type": "execute_result"
    }
   ],
   "source": [
    "brand"
   ]
  },
  {
   "cell_type": "code",
   "execution_count": 62,
   "metadata": {},
   "outputs": [
    {
     "data": {
      "text/plain": [
       "['One M9',\n",
       " 'Moto X',\n",
       " 'iphone 7',\n",
       " 'Lumia 520',\n",
       " 'Galaxy S8',\n",
       " 'iPhone X',\n",
       " 'iPad Air',\n",
       " 'Galaxy A5',\n",
       " 'Xperia Z3',\n",
       " 'G6']"
      ]
     },
     "execution_count": 62,
     "metadata": {},
     "output_type": "execute_result"
    }
   ],
   "source": [
    "model"
   ]
  },
  {
   "cell_type": "code",
   "execution_count": 68,
   "metadata": {},
   "outputs": [],
   "source": [
    "prices=list(mob_price.values())"
   ]
  },
  {
   "cell_type": "code",
   "execution_count": 71,
   "metadata": {},
   "outputs": [
    {
     "data": {
      "text/plain": [
       "['$476',\n",
       " '$476',\n",
       " '$476',\n",
       " '$476',\n",
       " '$476',\n",
       " '$476',\n",
       " '$476',\n",
       " '$476',\n",
       " '$476',\n",
       " '$476']"
      ]
     },
     "execution_count": 71,
     "metadata": {},
     "output_type": "execute_result"
    }
   ],
   "source": [
    "prices"
   ]
  },
  {
   "cell_type": "code",
   "execution_count": 14,
   "metadata": {},
   "outputs": [
    {
     "name": "stdout",
     "output_type": "stream",
     "text": [
      "HTC One M9 - Unlocked (AU Stock) \n",
      "Motorola Moto X - Generation 1 \n",
      "Apple iphone 7 black 32gb \n"
     ]
    }
   ],
   "source": [
    "for search in list(mob_price.keys()):\n",
    "    print(search)"
   ]
  },
  {
   "cell_type": "code",
   "execution_count": 17,
   "metadata": {},
   "outputs": [],
   "source": [
    "from tutorial.tutorial.spiders.sample1 import funcshun"
   ]
  },
  {
   "cell_type": "code",
   "execution_count": 19,
   "metadata": {},
   "outputs": [],
   "source": [
    "import scrapy"
   ]
  },
  {
   "cell_type": "code",
   "execution_count": 21,
   "metadata": {},
   "outputs": [],
   "source": [
    "from tutorial.tutorial.items import TutorialItem"
   ]
  },
  {
   "cell_type": "code",
   "execution_count": 22,
   "metadata": {},
   "outputs": [],
   "source": [
    "class test_spider(scrapy.Spider):\n",
    "    name = 'quotes'\n",
    "    start_urls = [\n",
    "    'https://www.kuz.com.au/'\n",
    "                 ]              \n",
    "    \n",
    "    def parse(self, response):\n",
    "        items=TutorialItem()\n",
    "        \n",
    "        all_div_quotes = response.css('div.featured-content')\n",
    "        \n",
    "        for quotes in all_div_quotes:\n",
    "            mob=quotes.xpath('//div[@class=$val]/h4/a/text()', val='mob-name').extract()\n",
    "    \n",
    "            items['mob']=mob\n",
    "    \n",
    "            yield items"
   ]
  },
  {
   "cell_type": "code",
   "execution_count": 1,
   "metadata": {},
   "outputs": [],
   "source": [
    "import spacy"
   ]
  },
  {
   "cell_type": "code",
   "execution_count": 2,
   "metadata": {},
   "outputs": [
    {
     "name": "stdout",
     "output_type": "stream",
     "text": [
      "2.0.18\n"
     ]
    }
   ],
   "source": [
    "print(spacy.__version__)"
   ]
  },
  {
   "cell_type": "code",
   "execution_count": 3,
   "metadata": {},
   "outputs": [],
   "source": [
    "nlp = spacy.load('en')"
   ]
  },
  {
   "cell_type": "code",
   "execution_count": 21,
   "metadata": {},
   "outputs": [],
   "source": [
    "a = nlp(u\"can you help me with my query\")\n",
    "b = nlp(u\"I will pay you through online banking\")"
   ]
  },
  {
   "cell_type": "code",
   "execution_count": 22,
   "metadata": {},
   "outputs": [
    {
     "name": "stdout",
     "output_type": "stream",
     "text": [
      "0.6494350845868355\n"
     ]
    }
   ],
   "source": [
    "print(b.similarity(a))"
   ]
  },
  {
   "cell_type": "code",
   "execution_count": 1,
   "metadata": {},
   "outputs": [],
   "source": [
    "import urllib.parse as urlparse"
   ]
  },
  {
   "cell_type": "code",
   "execution_count": 2,
   "metadata": {},
   "outputs": [],
   "source": [
    "import os"
   ]
  },
  {
   "cell_type": "code",
   "execution_count": null,
   "metadata": {},
   "outputs": [],
   "source": []
  }
 ],
 "metadata": {
  "kernelspec": {
   "display_name": "Python 3",
   "language": "python",
   "name": "python3"
  },
  "language_info": {
   "codemirror_mode": {
    "name": "ipython",
    "version": 3
   },
   "file_extension": ".py",
   "mimetype": "text/x-python",
   "name": "python",
   "nbconvert_exporter": "python",
   "pygments_lexer": "ipython3",
   "version": "3.6.7"
  }
 },
 "nbformat": 4,
 "nbformat_minor": 2
}
